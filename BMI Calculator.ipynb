{
 "cells": [
  {
   "cell_type": "code",
   "execution_count": 6,
   "id": "82201104-895c-40c8-9eea-cf6af63aceab",
   "metadata": {},
   "outputs": [
    {
     "name": "stdin",
     "output_type": "stream",
     "text": [
      "Enter your name Samwek \n",
      "Enter your weight in pounds:  79\n",
      "Enter your height in inches:  109\n"
     ]
    },
    {
     "name": "stdout",
     "output_type": "stream",
     "text": [
      "4.674438178604494\n",
      "Samwek ,you are underweight.\n"
     ]
    }
   ],
   "source": [
    "name= input(\"Enter your name\")\n",
    "\n",
    "weight= int(input (\"Enter your weight in pounds: \"))\n",
    "\n",
    "height= int(input (\"Enter your height in inches: \"))\n",
    "\n",
    "BMI =(weight*703)/(height*height)\n",
    "\n",
    "print (BMI)\n",
    "\n",
    "if BMI>0:\n",
    "    if (BMI < 18.5):\n",
    "        print(name + \",you are underweight.\")\n",
    "    elif (BMI <= 24.9):\n",
    "        print(name + \",you are normal weight.\")\n",
    "    elif (BMI <= 29.9):\n",
    "        print(name + \",you are over weight.\")\n",
    "    elif (BMI <= 34.9):\n",
    "        print(name + \",you are obese.\")\n",
    "    elif (BMI <= 34.9):\n",
    "        print(name + \",you are severly obese.\")\n",
    "    else: \n",
    "        print(\"you are morbidly obese\")\n",
    "else:\n",
    "    print(\"Enter valid input\")"
   ]
  },
  {
   "cell_type": "code",
   "execution_count": null,
   "id": "bf020c7c-af0e-4598-b208-a6d9eb0a0368",
   "metadata": {},
   "outputs": [],
   "source": []
  },
  {
   "cell_type": "code",
   "execution_count": null,
   "id": "15086e69-d805-4729-9e3e-2fa5ae9b9dba",
   "metadata": {},
   "outputs": [],
   "source": []
  },
  {
   "cell_type": "code",
   "execution_count": null,
   "id": "97722ba4-2e38-4a61-af93-7e90325093fe",
   "metadata": {},
   "outputs": [],
   "source": []
  },
  {
   "cell_type": "code",
   "execution_count": null,
   "id": "f35c93e7-0756-43f1-9184-d4d7dfeda662",
   "metadata": {},
   "outputs": [],
   "source": []
  },
  {
   "cell_type": "code",
   "execution_count": null,
   "id": "2f702144-0fab-44e9-b320-de28515b108c",
   "metadata": {},
   "outputs": [],
   "source": []
  },
  {
   "cell_type": "code",
   "execution_count": null,
   "id": "b7c907a3-3c60-4b63-9445-fe160068f227",
   "metadata": {},
   "outputs": [],
   "source": []
  },
  {
   "cell_type": "code",
   "execution_count": null,
   "id": "83845a70-c1d9-4676-aeb8-2d22e36fa075",
   "metadata": {},
   "outputs": [],
   "source": []
  },
  {
   "cell_type": "code",
   "execution_count": null,
   "id": "1e0c5229-283a-4e8b-a450-faecb03cc419",
   "metadata": {},
   "outputs": [],
   "source": []
  },
  {
   "cell_type": "code",
   "execution_count": null,
   "id": "15049fcd-f2ea-499a-a2b3-1b70311627d6",
   "metadata": {},
   "outputs": [],
   "source": []
  },
  {
   "cell_type": "code",
   "execution_count": null,
   "id": "bb46ab53-f2dc-44c1-936d-ad7001a3a22b",
   "metadata": {},
   "outputs": [],
   "source": []
  }
 ],
 "metadata": {
  "kernelspec": {
   "display_name": "Python 3 (ipykernel)",
   "language": "python",
   "name": "python3"
  },
  "language_info": {
   "codemirror_mode": {
    "name": "ipython",
    "version": 3
   },
   "file_extension": ".py",
   "mimetype": "text/x-python",
   "name": "python",
   "nbconvert_exporter": "python",
   "pygments_lexer": "ipython3",
   "version": "3.12.7"
  }
 },
 "nbformat": 4,
 "nbformat_minor": 5
}
